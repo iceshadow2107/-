{
  "cells": [
    {
      "cell_type": "markdown",
      "metadata": {
        "id": "view-in-github",
        "colab_type": "text"
      },
      "source": [
        "<a href=\"https://colab.research.google.com/github/iceshadow2107/AIDEA-Text-labeling-and-identification-of-agricultural-articles/blob/main/AICUP_2021_ver4.ipynb\" target=\"_parent\"><img src=\"https://colab.research.google.com/assets/colab-badge.svg\" alt=\"Open In Colab\"/></a>"
      ]
    },
    {
      "cell_type": "code",
      "execution_count": null,
      "id": "4211248c-f47b-4595-a077-c6e9f7252ffe",
      "metadata": {
        "id": "4211248c-f47b-4595-a077-c6e9f7252ffe"
      },
      "outputs": [],
      "source": [
        "import pandas as pd\n",
        "import numpy as np\n",
        "from sklearn import metrics\n",
        "from sklearn.model_selection import KFold\n",
        "from sklearn.feature_extraction.text import TfidfVectorizer\n",
        "\n",
        "from sklearn.naive_bayes import MultinomialNB\n",
        "from sklearn.linear_model import LogisticRegression\n",
        "from sklearn.ensemble import RandomForestClassifier\n",
        "from sklearn.svm import SVC\n",
        "from sklearn.model_selection import GridSearchCV\n",
        "\n",
        "import monpa\n",
        "from monpa import utils\n",
        "import os\n",
        "import csv"
      ]
    },
    {
      "cell_type": "markdown",
      "id": "c7b9406b-2270-4651-9196-5ec659bb550c",
      "metadata": {
        "id": "c7b9406b-2270-4651-9196-5ec659bb550c"
      },
      "source": [
        "# 修改成第一階段以及private資料"
      ]
    },
    {
      "cell_type": "markdown",
      "id": "1510f3a7-5d39-404c-84a4-9bc6d948628d",
      "metadata": {
        "id": "1510f3a7-5d39-404c-84a4-9bc6d948628d"
      },
      "source": [
        "只改檔案名即可(first_data是有label的檔案，final_data是Private測試集階段)(因為寫test跟train我會搞混......)"
      ]
    },
    {
      "cell_type": "code",
      "execution_count": null,
      "id": "fed2cf38-6d7c-4edc-b131-65e6772c1642",
      "metadata": {
        "id": "fed2cf38-6d7c-4edc-b131-65e6772c1642"
      },
      "outputs": [],
      "source": [
        "first_data = {}\n",
        "for file in os.listdir(\"./dataTrainComplete\"):\n",
        "    f = open(\"./dataTrainComplete/\" + file, mode='r', encoding=\"utf-8\")\n",
        "    text = f.read()\n",
        "    idx = os.path.splitext(file)[0]\n",
        "    if idx not in first_data.keys():\n",
        "        first_data[idx] = text"
      ]
    },
    {
      "cell_type": "code",
      "execution_count": null,
      "id": "1aa474e7-e55a-492d-a419-d49a57ac878f",
      "metadata": {
        "id": "1aa474e7-e55a-492d-a419-d49a57ac878f"
      },
      "outputs": [],
      "source": [
        "final_data = {}\n",
        "for file in os.listdir(\"./dataPrivateComplete\"):\n",
        "    f = open(\"./dataPrivateComplete/\" + file, mode='r', encoding=\"utf-8\")\n",
        "    text = f.read()\n",
        "    idx = os.path.splitext(file)[0]\n",
        "    if idx not in final_data.keys():\n",
        "        final_data[idx] = text"
      ]
    },
    {
      "cell_type": "code",
      "execution_count": null,
      "id": "6085684b-0be1-41f8-9cb7-a3cb92a3b19b",
      "metadata": {
        "id": "6085684b-0be1-41f8-9cb7-a3cb92a3b19b"
      },
      "outputs": [],
      "source": [
        "chem = [line.strip() for line in open ('chem.txt', encoding='utf-8').readlines()]\n",
        "crop = [line.strip() for line in open ('crop.txt', encoding='utf-8').readlines()]\n",
        "pest = [line.strip() for line in open ('pest.txt', encoding='utf-8').readlines()]\n",
        "def GROUP(article):\n",
        "    group = []\n",
        "    i = 0\n",
        "    j = 0\n",
        "    l = 0\n",
        "    for i in range(len(chem)):\n",
        "        word = str(chem[i])\n",
        "        if word in article:\n",
        "            group.append(word)\n",
        "    for j in range(len(crop)):\n",
        "        word = str(crop[j])\n",
        "        if word in article:\n",
        "            group.append(word)\n",
        "    for k in range(len(pest)):\n",
        "        word = str(pest[k])\n",
        "        if word in article:\n",
        "            group.append(word)\n",
        "    return group"
      ]
    },
    {
      "cell_type": "code",
      "execution_count": null,
      "id": "1af3feee-1e79-46c9-aaaf-b1e01ae2699d",
      "metadata": {
        "id": "1af3feee-1e79-46c9-aaaf-b1e01ae2699d",
        "outputId": "27033fdc-dfb4-42c3-cd51-a716fccc5eab"
      },
      "outputs": [
        {
          "name": "stdout",
          "output_type": "stream",
          "text": [
            "559\n"
          ]
        }
      ],
      "source": [
        "for key in list(first_data.keys()):\n",
        "    first_data[key] = str(GROUP(first_data[key]))"
      ]
    },
    {
      "cell_type": "code",
      "execution_count": null,
      "id": "4191b8e2-fc04-4936-91b8-14aa80d12661",
      "metadata": {
        "id": "4191b8e2-fc04-4936-91b8-14aa80d12661",
        "outputId": "fe7945b6-2685-4bee-ef5c-35f3bd5eae2d"
      },
      "outputs": [
        {
          "name": "stdout",
          "output_type": "stream",
          "text": [
            "420\n"
          ]
        }
      ],
      "source": [
        "for key in list(final_data.keys()):\n",
        "    final_data[key] = str(GROUP(final_data[key]))"
      ]
    },
    {
      "cell_type": "markdown",
      "id": "7613efa6-1882-4fb8-b8f8-02b547788421",
      "metadata": {
        "id": "7613efa6-1882-4fb8-b8f8-02b547788421"
      },
      "source": [
        "# 修改成第一階段以及private資料你想要輸出的檔名"
      ]
    },
    {
      "cell_type": "markdown",
      "id": "97365dce-19b4-4e69-9829-2f037f0df2d2",
      "metadata": {
        "id": "97365dce-19b4-4e69-9829-2f037f0df2d2"
      },
      "source": [
        "只改輸出的檔案名即可(first_data是有label的檔案，final_data是Private測試集階段)(因為寫test跟train我會搞混......)"
      ]
    },
    {
      "cell_type": "code",
      "execution_count": null,
      "id": "c73051dc-4194-44cd-8867-9eaebaad3b42",
      "metadata": {
        "id": "c73051dc-4194-44cd-8867-9eaebaad3b42"
      },
      "outputs": [],
      "source": [
        "with open('first_data_monpa.csv', mode='w', encoding=\"utf-8\") as f:  \n",
        "    writer = csv.writer(f)\n",
        "    for k, v in first_data.items():\n",
        "        writer.writerow([k, v])"
      ]
    },
    {
      "cell_type": "code",
      "execution_count": null,
      "id": "42ace82d-026e-4c54-910e-b2c98a711793",
      "metadata": {
        "id": "42ace82d-026e-4c54-910e-b2c98a711793"
      },
      "outputs": [],
      "source": [
        "with open('final_data_monpa.csv', mode='w', encoding=\"utf-8\") as f:  \n",
        "    writer = csv.writer(f)\n",
        "    for k, v in final_data.items():\n",
        "        writer.writerow([k, v])"
      ]
    },
    {
      "cell_type": "markdown",
      "id": "be6da887-b869-46fe-907a-91813d8da46c",
      "metadata": {
        "id": "be6da887-b869-46fe-907a-91813d8da46c"
      },
      "source": [
        "# 製作第一階段的Train label sample"
      ]
    },
    {
      "cell_type": "code",
      "execution_count": null,
      "id": "a371a78c-6e5e-4c87-ac5a-64b5761e16c9",
      "metadata": {
        "id": "a371a78c-6e5e-4c87-ac5a-64b5761e16c9"
      },
      "outputs": [],
      "source": [
        "first_data = pd.read_csv('first_data_monpa.csv', header=None, index_col=0, squeeze=True).to_dict()"
      ]
    },
    {
      "cell_type": "code",
      "execution_count": null,
      "id": "b6c28045-93df-4937-81ad-047b665df1f1",
      "metadata": {
        "id": "b6c28045-93df-4937-81ad-047b665df1f1"
      },
      "outputs": [],
      "source": [
        "TrainLabel = pd.read_csv('TrainLabel.csv', header=0, encoding='utf-8')\n",
        "TrainLabel_test = TrainLabel['Test'].values.tolist()\n",
        "TrainLabel_Reference = TrainLabel['Reference'].values.tolist()"
      ]
    },
    {
      "cell_type": "code",
      "execution_count": null,
      "id": "b22a9c7d-97d2-42c7-8d2d-35efccd75011",
      "metadata": {
        "id": "b22a9c7d-97d2-42c7-8d2d-35efccd75011"
      },
      "outputs": [],
      "source": [
        "TrainLabel_test_text = []\n",
        "TrainLabel_Reference_text = []\n",
        "for item in TrainLabel_test:\n",
        "    TrainLabel_test_text.append(str(first_data[item]))\n",
        "for item in TrainLabel_Reference:\n",
        "    TrainLabel_Reference_text.append(str(first_data[item]))"
      ]
    },
    {
      "cell_type": "code",
      "execution_count": null,
      "id": "7235f26a-92e8-4fa7-9e3d-d22fd8aed00f",
      "metadata": {
        "id": "7235f26a-92e8-4fa7-9e3d-d22fd8aed00f"
      },
      "outputs": [],
      "source": [
        "pn = [1]*len(TrainLabel)"
      ]
    },
    {
      "cell_type": "code",
      "execution_count": null,
      "id": "2a146afa-45a9-40ed-8e62-ab09bad31b4f",
      "metadata": {
        "id": "2a146afa-45a9-40ed-8e62-ab09bad31b4f"
      },
      "outputs": [],
      "source": [
        "TrainLabel_text_1 = pd.DataFrame({'Test':TrainLabel_test, 'Reference':TrainLabel_Reference, 'Test_text':TrainLabel_test_text, 'Reference_text':TrainLabel_Reference_text, 'P/N':pn})"
      ]
    },
    {
      "cell_type": "code",
      "execution_count": null,
      "id": "b5f788b2-1dcb-4bd1-bff6-243aad2efc16",
      "metadata": {
        "id": "b5f788b2-1dcb-4bd1-bff6-243aad2efc16"
      },
      "outputs": [],
      "source": [
        "list_key_Label = list(first_data.keys())\n",
        "LabellistA = [val for val in list_key_Label for i in range(len(list_key_Label))]\n",
        "LabellistB = list_key_Label*len(list_key_Label)"
      ]
    },
    {
      "cell_type": "code",
      "execution_count": null,
      "id": "8bc92a0b-bb8d-4d8f-b059-75b1b4cee41d",
      "metadata": {
        "id": "8bc92a0b-bb8d-4d8f-b059-75b1b4cee41d"
      },
      "outputs": [],
      "source": [
        "TrainLabel_test_text = []\n",
        "TrainLabel_Reference_text = []\n",
        "for item in LabellistA:\n",
        "    TrainLabel_test_text.append(str(first_data[item]))\n",
        "for item in LabellistB:\n",
        "    TrainLabel_Reference_text.append(str(first_data[item]))"
      ]
    },
    {
      "cell_type": "code",
      "execution_count": null,
      "id": "23d33e6b-6129-4ab0-bb13-42af8e607a15",
      "metadata": {
        "id": "23d33e6b-6129-4ab0-bb13-42af8e607a15"
      },
      "outputs": [],
      "source": [
        "d = [str(list(first_data.keys())[i])*2 for i in range(len(first_data.keys()))]\n",
        "LabellistC = list(str(LabellistA[i])+str(LabellistB[i]) for i in range(len(LabellistA)))\n",
        "TrainLabel_combo = list((str(TrainLabel_test[i])+str(TrainLabel_Reference[i]) for i in range(len(TrainLabel)))) + d"
      ]
    },
    {
      "cell_type": "code",
      "execution_count": null,
      "id": "f4d577be-c4f5-45ba-8169-7f8166850149",
      "metadata": {
        "id": "f4d577be-c4f5-45ba-8169-7f8166850149"
      },
      "outputs": [],
      "source": [
        "PN = []\n",
        "for i in range(len(LabellistC)):\n",
        "    if LabellistC[i] in TrainLabel_combo:\n",
        "        PN.append(1)\n",
        "    else:\n",
        "        PN.append(0)"
      ]
    },
    {
      "cell_type": "code",
      "execution_count": null,
      "id": "cdc7c0d9-4e12-47a2-84c2-93b4c487b176",
      "metadata": {
        "id": "cdc7c0d9-4e12-47a2-84c2-93b4c487b176"
      },
      "outputs": [],
      "source": [
        "TrainLabel_text_all = pd.DataFrame({'Test':LabellistA, 'Reference':LabellistB, 'Test_text':TrainLabel_test_text, 'Reference_text':TrainLabel_Reference_text, 'P/N':PN})"
      ]
    },
    {
      "cell_type": "markdown",
      "id": "bcaae7c9-1610-4e4a-9691-b0e35225e8a9",
      "metadata": {
        "id": "bcaae7c9-1610-4e4a-9691-b0e35225e8a9"
      },
      "source": [
        "## 可以改隨機抽取的label 0個數跟模式"
      ]
    },
    {
      "cell_type": "code",
      "execution_count": null,
      "id": "d75dfb5a-b156-4e23-a15b-304cf87509c9",
      "metadata": {
        "id": "d75dfb5a-b156-4e23-a15b-304cf87509c9"
      },
      "outputs": [],
      "source": [
        "#0的df\n",
        "TrainLabel_text_0 = TrainLabel_text_all[TrainLabel_text_all['P/N'] == 0]\n",
        "TrainLabel_text_0_sample = TrainLabel_text_0.sample(n=60000,random_state=123,axis=0)"
      ]
    },
    {
      "cell_type": "code",
      "execution_count": null,
      "id": "c47d3cfb-2ce5-4854-8127-b315440e44ce",
      "metadata": {
        "id": "c47d3cfb-2ce5-4854-8127-b315440e44ce"
      },
      "outputs": [],
      "source": [
        "TrainLabel_text_sample = pd.concat([TrainLabel_text_1, TrainLabel_text_0_sample], ignore_index=True)"
      ]
    },
    {
      "cell_type": "code",
      "execution_count": null,
      "id": "cd5d4136-224f-4c53-803a-452d4484fc8f",
      "metadata": {
        "id": "cd5d4136-224f-4c53-803a-452d4484fc8f",
        "outputId": "7c431bfa-7bf9-40c3-d409-751b741afd1e"
      },
      "outputs": [
        {
          "data": {
            "text/html": [
              "<div>\n",
              "<style scoped>\n",
              "    .dataframe tbody tr th:only-of-type {\n",
              "        vertical-align: middle;\n",
              "    }\n",
              "\n",
              "    .dataframe tbody tr th {\n",
              "        vertical-align: top;\n",
              "    }\n",
              "\n",
              "    .dataframe thead th {\n",
              "        text-align: right;\n",
              "    }\n",
              "</style>\n",
              "<table border=\"1\" class=\"dataframe\">\n",
              "  <thead>\n",
              "    <tr style=\"text-align: right;\">\n",
              "      <th></th>\n",
              "      <th>Test</th>\n",
              "      <th>Reference</th>\n",
              "      <th>Test_text</th>\n",
              "      <th>Reference_text</th>\n",
              "      <th>P/N</th>\n",
              "    </tr>\n",
              "  </thead>\n",
              "  <tbody>\n",
              "    <tr>\n",
              "      <th>0</th>\n",
              "      <td>3</td>\n",
              "      <td>415</td>\n",
              "      <td>['性費洛蒙', '費洛蒙', '蘇力菌', '微生物製劑', '蔥', '蔬菜', '農作...</td>\n",
              "      <td>['性費洛蒙', '費洛蒙', '蘇力菌', '窄域油', '蔥', '甘藷', '玉米',...</td>\n",
              "      <td>1</td>\n",
              "    </tr>\n",
              "    <tr>\n",
              "      <th>1</th>\n",
              "      <td>3</td>\n",
              "      <td>649</td>\n",
              "      <td>['性費洛蒙', '費洛蒙', '蘇力菌', '微生物製劑', '蔥', '蔬菜', '農作...</td>\n",
              "      <td>['性費洛蒙', '費洛蒙', '蘇力菌', '蔥', '甘藷', '玉米', '大蒜', ...</td>\n",
              "      <td>1</td>\n",
              "    </tr>\n",
              "    <tr>\n",
              "      <th>2</th>\n",
              "      <td>9</td>\n",
              "      <td>5</td>\n",
              "      <td>['苦楝油', '菸草水', '水稻', '菸草', '褐飛蝨', '白背飛蝨', '斑飛蝨...</td>\n",
              "      <td>['苦楝油', '菸草水', '水稻', '菸草', '農作物', '褐飛蝨', '白背飛蝨...</td>\n",
              "      <td>1</td>\n",
              "    </tr>\n",
              "    <tr>\n",
              "      <th>3</th>\n",
              "      <td>25</td>\n",
              "      <td>32</td>\n",
              "      <td>['腐絕快得寧', '待克利', '百克敏', '快得寧', '腐絕', '草莓', '炭疽...</td>\n",
              "      <td>['腐絕快得寧', '待克利', '百克敏', '快得寧', '腐絕', '草莓', '炭疽...</td>\n",
              "      <td>1</td>\n",
              "    </tr>\n",
              "    <tr>\n",
              "      <th>4</th>\n",
              "      <td>25</td>\n",
              "      <td>41</td>\n",
              "      <td>['腐絕快得寧', '待克利', '百克敏', '快得寧', '腐絕', '草莓', '炭疽...</td>\n",
              "      <td>['腐絕快得寧', '待克利', '百克敏', '快得寧', '腐絕', '草莓', '炭疽...</td>\n",
              "      <td>1</td>\n",
              "    </tr>\n",
              "    <tr>\n",
              "      <th>...</th>\n",
              "      <td>...</td>\n",
              "      <td>...</td>\n",
              "      <td>...</td>\n",
              "      <td>...</td>\n",
              "      <td>...</td>\n",
              "    </tr>\n",
              "    <tr>\n",
              "      <th>61376</th>\n",
              "      <td>644</td>\n",
              "      <td>1342</td>\n",
              "      <td>['鹼性氯氧化銅', '快得寧', '多保鏈黴素', '鏈黴素', '鋅波爾多', '銅快得...</td>\n",
              "      <td>['蕉', '豆科', '雜草', '茄科', '蚜蟲', '嵌紋病', '棉蚜', '蕉蚜']</td>\n",
              "      <td>0</td>\n",
              "    </tr>\n",
              "    <tr>\n",
              "      <th>61377</th>\n",
              "      <td>185</td>\n",
              "      <td>521</td>\n",
              "      <td>['斜紋夜蛾']</td>\n",
              "      <td>['賽洛寧', '可尼丁', '賽速安', '得芬諾', '水稻', '瘤野螟', '稻縱捲...</td>\n",
              "      <td>0</td>\n",
              "    </tr>\n",
              "    <tr>\n",
              "      <th>61378</th>\n",
              "      <td>1010</td>\n",
              "      <td>612</td>\n",
              "      <td>['水稻', '梅', '農作物', '稻熱病', '吊狗', '病蟲害']</td>\n",
              "      <td>['三賽唑', '賽唑可濕性粉劑', '喜樂克拉', '護粒松', '嘉賜三賽唑', '賜三...</td>\n",
              "      <td>0</td>\n",
              "    </tr>\n",
              "    <tr>\n",
              "      <th>61379</th>\n",
              "      <td>1315</td>\n",
              "      <td>421</td>\n",
              "      <td>['第滅寧', '陶斯松', '褔瑞松', '蕉', '雜草', '薊馬', '花薊馬']</td>\n",
              "      <td>['賓克隆', '褔多寧', '菲克利', '維利熱必斯', '貝芬同', '熱必斯', '...</td>\n",
              "      <td>0</td>\n",
              "    </tr>\n",
              "    <tr>\n",
              "      <th>61380</th>\n",
              "      <td>276</td>\n",
              "      <td>1</td>\n",
              "      <td>['第滅寧', '賽洛寧', '撲滅松', '滅松乳劑', '布芬第滅寧', '布得芬諾',...</td>\n",
              "      <td>['鋅錳乃浦', '錳乃浦', '文旦', '梅', '黑點病']</td>\n",
              "      <td>0</td>\n",
              "    </tr>\n",
              "  </tbody>\n",
              "</table>\n",
              "<p>61381 rows × 5 columns</p>\n",
              "</div>"
            ],
            "text/plain": [
              "       Test  Reference                                          Test_text  \\\n",
              "0         3        415  ['性費洛蒙', '費洛蒙', '蘇力菌', '微生物製劑', '蔥', '蔬菜', '農作...   \n",
              "1         3        649  ['性費洛蒙', '費洛蒙', '蘇力菌', '微生物製劑', '蔥', '蔬菜', '農作...   \n",
              "2         9          5  ['苦楝油', '菸草水', '水稻', '菸草', '褐飛蝨', '白背飛蝨', '斑飛蝨...   \n",
              "3        25         32  ['腐絕快得寧', '待克利', '百克敏', '快得寧', '腐絕', '草莓', '炭疽...   \n",
              "4        25         41  ['腐絕快得寧', '待克利', '百克敏', '快得寧', '腐絕', '草莓', '炭疽...   \n",
              "...     ...        ...                                                ...   \n",
              "61376   644       1342  ['鹼性氯氧化銅', '快得寧', '多保鏈黴素', '鏈黴素', '鋅波爾多', '銅快得...   \n",
              "61377   185        521                                           ['斜紋夜蛾']   \n",
              "61378  1010        612             ['水稻', '梅', '農作物', '稻熱病', '吊狗', '病蟲害']   \n",
              "61379  1315        421      ['第滅寧', '陶斯松', '褔瑞松', '蕉', '雜草', '薊馬', '花薊馬']   \n",
              "61380   276          1  ['第滅寧', '賽洛寧', '撲滅松', '滅松乳劑', '布芬第滅寧', '布得芬諾',...   \n",
              "\n",
              "                                          Reference_text  P/N  \n",
              "0      ['性費洛蒙', '費洛蒙', '蘇力菌', '窄域油', '蔥', '甘藷', '玉米',...    1  \n",
              "1      ['性費洛蒙', '費洛蒙', '蘇力菌', '蔥', '甘藷', '玉米', '大蒜', ...    1  \n",
              "2      ['苦楝油', '菸草水', '水稻', '菸草', '農作物', '褐飛蝨', '白背飛蝨...    1  \n",
              "3      ['腐絕快得寧', '待克利', '百克敏', '快得寧', '腐絕', '草莓', '炭疽...    1  \n",
              "4      ['腐絕快得寧', '待克利', '百克敏', '快得寧', '腐絕', '草莓', '炭疽...    1  \n",
              "...                                                  ...  ...  \n",
              "61376   ['蕉', '豆科', '雜草', '茄科', '蚜蟲', '嵌紋病', '棉蚜', '蕉蚜']    0  \n",
              "61377  ['賽洛寧', '可尼丁', '賽速安', '得芬諾', '水稻', '瘤野螟', '稻縱捲...    0  \n",
              "61378  ['三賽唑', '賽唑可濕性粉劑', '喜樂克拉', '護粒松', '嘉賜三賽唑', '賜三...    0  \n",
              "61379  ['賓克隆', '褔多寧', '菲克利', '維利熱必斯', '貝芬同', '熱必斯', '...    0  \n",
              "61380                  ['鋅錳乃浦', '錳乃浦', '文旦', '梅', '黑點病']    0  \n",
              "\n",
              "[61381 rows x 5 columns]"
            ]
          },
          "execution_count": 22,
          "metadata": {},
          "output_type": "execute_result"
        }
      ],
      "source": [
        "TrainLabel_text_sample"
      ]
    },
    {
      "cell_type": "markdown",
      "id": "a0a65394-db40-42a8-a752-12668f0e50eb",
      "metadata": {
        "id": "a0a65394-db40-42a8-a752-12668f0e50eb"
      },
      "source": [
        "## 可以改成你想要的label檔名"
      ]
    },
    {
      "cell_type": "code",
      "execution_count": null,
      "id": "bb146742-c3c0-4ce5-99b1-d3be8e457dcb",
      "metadata": {
        "id": "bb146742-c3c0-4ce5-99b1-d3be8e457dcb"
      },
      "outputs": [],
      "source": [
        "TrainLabel_text_sample.to_csv('TrainLabel_text_sample.csv', header=True, index=False)"
      ]
    },
    {
      "cell_type": "markdown",
      "id": "0d2f634c-9c08-40ee-baad-9813ecc6abcc",
      "metadata": {
        "id": "0d2f634c-9c08-40ee-baad-9813ecc6abcc"
      },
      "source": [
        "# 製作private train data"
      ]
    },
    {
      "cell_type": "code",
      "execution_count": null,
      "id": "89572214-b6da-4ec7-a89a-3dcc116301ae",
      "metadata": {
        "id": "89572214-b6da-4ec7-a89a-3dcc116301ae"
      },
      "outputs": [],
      "source": [
        "#final_data = pd.read_csv('final_data_monpa.csv', header=None, index_col=0, squeeze=True).to_dict()"
      ]
    },
    {
      "cell_type": "code",
      "execution_count": null,
      "id": "26d31259-d2a9-4f24-8308-1e5fad7bb4d5",
      "metadata": {
        "id": "26d31259-d2a9-4f24-8308-1e5fad7bb4d5"
      },
      "outputs": [],
      "source": [
        "list_key = list(final_data.keys())\n",
        "listA = [val for val in list_key for i in range(len(final_data))]\n",
        "listB = list_key*(len(final_data))"
      ]
    },
    {
      "cell_type": "code",
      "execution_count": null,
      "id": "d011c8c9-fe82-474c-8930-300da9f77a4d",
      "metadata": {
        "id": "d011c8c9-fe82-474c-8930-300da9f77a4d"
      },
      "outputs": [],
      "source": [
        "final_data_test_text = []\n",
        "final_data_Reference_text = []\n",
        "for item in listA:\n",
        "    final_data_test_text.append(str(final_data[item]))\n",
        "for item in listB:\n",
        "    final_data_Reference_text.append(str(final_data[item]))"
      ]
    },
    {
      "cell_type": "code",
      "execution_count": null,
      "id": "5cf72ff2-2ee8-43d7-8506-ebbe972c6caa",
      "metadata": {
        "id": "5cf72ff2-2ee8-43d7-8506-ebbe972c6caa"
      },
      "outputs": [],
      "source": [
        "final_data_all = pd.DataFrame({'Test':listA, 'Reference':listB, 'Test_text':final_data_test_text, 'Reference_text':final_data_Reference_text})"
      ]
    },
    {
      "cell_type": "markdown",
      "id": "acc552ae-2daa-4868-a380-c2425d05c601",
      "metadata": {
        "id": "acc552ae-2daa-4868-a380-c2425d05c601"
      },
      "source": [
        "## 可以改隨機抽取的private data個數跟模式"
      ]
    },
    {
      "cell_type": "code",
      "execution_count": null,
      "id": "7a268f1b-6c04-458d-b07b-86e622cef165",
      "metadata": {
        "id": "7a268f1b-6c04-458d-b07b-86e622cef165"
      },
      "outputs": [],
      "source": [
        "final_data_all.to_csv('Test_data_sample.csv', header=True, index=False)"
      ]
    },
    {
      "cell_type": "code",
      "execution_count": null,
      "id": "bbd60b7a-f7ad-4c90-b00e-f56e9f23b7c0",
      "metadata": {
        "id": "bbd60b7a-f7ad-4c90-b00e-f56e9f23b7c0",
        "outputId": "246f2d9d-f7de-4e30-bd47-6435ce45171d"
      },
      "outputs": [
        {
          "data": {
            "text/html": [
              "<div>\n",
              "<style scoped>\n",
              "    .dataframe tbody tr th:only-of-type {\n",
              "        vertical-align: middle;\n",
              "    }\n",
              "\n",
              "    .dataframe tbody tr th {\n",
              "        vertical-align: top;\n",
              "    }\n",
              "\n",
              "    .dataframe thead th {\n",
              "        text-align: right;\n",
              "    }\n",
              "</style>\n",
              "<table border=\"1\" class=\"dataframe\">\n",
              "  <thead>\n",
              "    <tr style=\"text-align: right;\">\n",
              "      <th></th>\n",
              "      <th>Test</th>\n",
              "      <th>Reference</th>\n",
              "      <th>Test_text</th>\n",
              "      <th>Reference_text</th>\n",
              "    </tr>\n",
              "  </thead>\n",
              "  <tbody>\n",
              "    <tr>\n",
              "      <th>0</th>\n",
              "      <td>100</td>\n",
              "      <td>100</td>\n",
              "      <td>['三賽唑', '賽唑可濕性粉劑', '亞賜圃', '嘉賜黴素', '甲基多保淨', '嘉賜...</td>\n",
              "      <td>['三賽唑', '賽唑可濕性粉劑', '亞賜圃', '嘉賜黴素', '甲基多保淨', '嘉賜...</td>\n",
              "    </tr>\n",
              "    <tr>\n",
              "      <th>1</th>\n",
              "      <td>100</td>\n",
              "      <td>1002</td>\n",
              "      <td>['三賽唑', '賽唑可濕性粉劑', '亞賜圃', '嘉賜黴素', '甲基多保淨', '嘉賜...</td>\n",
              "      <td>['含毒甲基丁香油', '甲基丁香油', '丁香油', '水稻', '蔬菜', '果樹', ...</td>\n",
              "    </tr>\n",
              "    <tr>\n",
              "      <th>2</th>\n",
              "      <td>100</td>\n",
              "      <td>1003</td>\n",
              "      <td>['三賽唑', '賽唑可濕性粉劑', '亞賜圃', '嘉賜黴素', '甲基多保淨', '嘉賜...</td>\n",
              "      <td>['耐克螺', '聚乙醛', '水稻', '疫病', '福壽螺', '病蟲害']</td>\n",
              "    </tr>\n",
              "    <tr>\n",
              "      <th>3</th>\n",
              "      <td>100</td>\n",
              "      <td>101</td>\n",
              "      <td>['三賽唑', '賽唑可濕性粉劑', '亞賜圃', '嘉賜黴素', '甲基多保淨', '嘉賜...</td>\n",
              "      <td>['培丹', '撲滅松', '滅松乳劑', '水稻', '桃', '螟蟲', '二化螟']</td>\n",
              "    </tr>\n",
              "    <tr>\n",
              "      <th>4</th>\n",
              "      <td>100</td>\n",
              "      <td>1013</td>\n",
              "      <td>['三賽唑', '賽唑可濕性粉劑', '亞賜圃', '嘉賜黴素', '甲基多保淨', '嘉賜...</td>\n",
              "      <td>['性費洛蒙', '費洛蒙', '蔬菜', '豆類', '雜糧', '綠肥作物', '農田'...</td>\n",
              "    </tr>\n",
              "    <tr>\n",
              "      <th>...</th>\n",
              "      <td>...</td>\n",
              "      <td>...</td>\n",
              "      <td>...</td>\n",
              "      <td>...</td>\n",
              "    </tr>\n",
              "    <tr>\n",
              "      <th>176395</th>\n",
              "      <td>995</td>\n",
              "      <td>982</td>\n",
              "      <td>['加保扶', '培丹', '水稻', '桃', '雜草', '水稻水象鼻蟲', '象鼻蟲'...</td>\n",
              "      <td>['水稻', '蔥', '果樹', '桃', '楊桃', '番石榴', '蔬果類', '農作...</td>\n",
              "    </tr>\n",
              "    <tr>\n",
              "      <th>176396</th>\n",
              "      <td>995</td>\n",
              "      <td>983</td>\n",
              "      <td>['加保扶', '培丹', '水稻', '桃', '雜草', '水稻水象鼻蟲', '象鼻蟲'...</td>\n",
              "      <td>['水稻', '捲葉蟲', '縱捲葉蟲', '白葉枯病', '紋枯病']</td>\n",
              "    </tr>\n",
              "    <tr>\n",
              "      <th>176397</th>\n",
              "      <td>995</td>\n",
              "      <td>989</td>\n",
              "      <td>['加保扶', '培丹', '水稻', '桃', '雜草', '水稻水象鼻蟲', '象鼻蟲'...</td>\n",
              "      <td>['滅賜松', '撲芬松', '竹筍', '竹盲椿象', '病蟲害']</td>\n",
              "    </tr>\n",
              "    <tr>\n",
              "      <th>176398</th>\n",
              "      <td>995</td>\n",
              "      <td>99</td>\n",
              "      <td>['加保扶', '培丹', '水稻', '桃', '雜草', '水稻水象鼻蟲', '象鼻蟲'...</td>\n",
              "      <td>['水稻', '桃', '稻熱病', '葉稻熱病']</td>\n",
              "    </tr>\n",
              "    <tr>\n",
              "      <th>176399</th>\n",
              "      <td>995</td>\n",
              "      <td>995</td>\n",
              "      <td>['加保扶', '培丹', '水稻', '桃', '雜草', '水稻水象鼻蟲', '象鼻蟲'...</td>\n",
              "      <td>['加保扶', '培丹', '水稻', '桃', '雜草', '水稻水象鼻蟲', '象鼻蟲'...</td>\n",
              "    </tr>\n",
              "  </tbody>\n",
              "</table>\n",
              "<p>176400 rows × 4 columns</p>\n",
              "</div>"
            ],
            "text/plain": [
              "       Test Reference                                          Test_text  \\\n",
              "0       100       100  ['三賽唑', '賽唑可濕性粉劑', '亞賜圃', '嘉賜黴素', '甲基多保淨', '嘉賜...   \n",
              "1       100      1002  ['三賽唑', '賽唑可濕性粉劑', '亞賜圃', '嘉賜黴素', '甲基多保淨', '嘉賜...   \n",
              "2       100      1003  ['三賽唑', '賽唑可濕性粉劑', '亞賜圃', '嘉賜黴素', '甲基多保淨', '嘉賜...   \n",
              "3       100       101  ['三賽唑', '賽唑可濕性粉劑', '亞賜圃', '嘉賜黴素', '甲基多保淨', '嘉賜...   \n",
              "4       100      1013  ['三賽唑', '賽唑可濕性粉劑', '亞賜圃', '嘉賜黴素', '甲基多保淨', '嘉賜...   \n",
              "...     ...       ...                                                ...   \n",
              "176395  995       982  ['加保扶', '培丹', '水稻', '桃', '雜草', '水稻水象鼻蟲', '象鼻蟲'...   \n",
              "176396  995       983  ['加保扶', '培丹', '水稻', '桃', '雜草', '水稻水象鼻蟲', '象鼻蟲'...   \n",
              "176397  995       989  ['加保扶', '培丹', '水稻', '桃', '雜草', '水稻水象鼻蟲', '象鼻蟲'...   \n",
              "176398  995        99  ['加保扶', '培丹', '水稻', '桃', '雜草', '水稻水象鼻蟲', '象鼻蟲'...   \n",
              "176399  995       995  ['加保扶', '培丹', '水稻', '桃', '雜草', '水稻水象鼻蟲', '象鼻蟲'...   \n",
              "\n",
              "                                           Reference_text  \n",
              "0       ['三賽唑', '賽唑可濕性粉劑', '亞賜圃', '嘉賜黴素', '甲基多保淨', '嘉賜...  \n",
              "1       ['含毒甲基丁香油', '甲基丁香油', '丁香油', '水稻', '蔬菜', '果樹', ...  \n",
              "2                ['耐克螺', '聚乙醛', '水稻', '疫病', '福壽螺', '病蟲害']  \n",
              "3           ['培丹', '撲滅松', '滅松乳劑', '水稻', '桃', '螟蟲', '二化螟']  \n",
              "4       ['性費洛蒙', '費洛蒙', '蔬菜', '豆類', '雜糧', '綠肥作物', '農田'...  \n",
              "...                                                   ...  \n",
              "176395  ['水稻', '蔥', '果樹', '桃', '楊桃', '番石榴', '蔬果類', '農作...  \n",
              "176396               ['水稻', '捲葉蟲', '縱捲葉蟲', '白葉枯病', '紋枯病']  \n",
              "176397                ['滅賜松', '撲芬松', '竹筍', '竹盲椿象', '病蟲害']  \n",
              "176398                         ['水稻', '桃', '稻熱病', '葉稻熱病']  \n",
              "176399  ['加保扶', '培丹', '水稻', '桃', '雜草', '水稻水象鼻蟲', '象鼻蟲'...  \n",
              "\n",
              "[176400 rows x 4 columns]"
            ]
          },
          "execution_count": 29,
          "metadata": {},
          "output_type": "execute_result"
        }
      ],
      "source": [
        "final_data_all"
      ]
    },
    {
      "cell_type": "markdown",
      "id": "709166d3-42c2-4558-9ebd-59a53b6bd9cf",
      "metadata": {
        "id": "709166d3-42c2-4558-9ebd-59a53b6bd9cf"
      },
      "source": [
        "# 處理訓練集及測試集的stop word 及標點符號 #"
      ]
    },
    {
      "cell_type": "code",
      "execution_count": null,
      "id": "8b97e4d5-b3ad-4998-8200-5d1198572afd",
      "metadata": {
        "id": "8b97e4d5-b3ad-4998-8200-5d1198572afd",
        "outputId": "74c6196c-9a90-433c-b0f3-2e033fe22e2b"
      },
      "outputs": [
        {
          "name": "stdout",
          "output_type": "stream",
          "text": [
            "Wall time: 46.3 s\n"
          ]
        }
      ],
      "source": [
        "%%time\n",
        "def clean_seg_list(seg_list):\n",
        "    punctuations = ['+', '?', '!', '！', '，', '.', '、', ':', '：', ';', '；', ' ', '\\/', '_', ',', '$', '^', \n",
        "                    '*', '~', '\\\"\"', '\\\\', '/', '／', '「', '」', '...', '......', '#', '(',')', '「','(',' ',')','」',\n",
        "                    '『', '』', '“', '”', '「', '」', '《', '》', '-', '－', '=', '⋯', '～', '・', '·', '<', '>', '．', '%', \n",
        "                    '％']\n",
        "    stop_words = [line.strip() for line in open ('stopword_chinese.txt', encoding = 'utf-8').readlines()]\n",
        "    return [seg for seg in seg_list if seg[0] not in punctuations + stop_words]\n",
        "\n",
        "def get_cleaned_seg(df):\n",
        "    df['All'] = df['Test_text'] + ' ' + df['Reference_text']\n",
        "    \n",
        "    cleaned = []\n",
        "    for line in df['All']:\n",
        "        items = line.split()\n",
        "        item = ' '.join(clean_seg_list(items))\n",
        "        cleaned.append(item)\n",
        "    df['All_text'] = cleaned\n",
        "    df = df.drop('All', axis=1)\n",
        "\n",
        "    return df\n",
        "df_train = get_cleaned_seg(TrainLabel_text_sample)\n",
        "df_test = get_cleaned_seg(final_data_all)"
      ]
    },
    {
      "cell_type": "markdown",
      "id": "fd1797cb-466d-4fe8-9718-4e93c9867f55",
      "metadata": {
        "id": "fd1797cb-466d-4fe8-9718-4e93c9867f55"
      },
      "source": [
        "# 訓練模型 #"
      ]
    },
    {
      "cell_type": "code",
      "execution_count": null,
      "id": "21f32b55-ed7b-4bd7-8180-ab18e98494be",
      "metadata": {
        "id": "21f32b55-ed7b-4bd7-8180-ab18e98494be"
      },
      "outputs": [],
      "source": [
        "labels = df_train['P/N'].tolist()\n",
        "features = df_train['All_text'].tolist()\n",
        "features_pre = df_test['All_text'].tolist()"
      ]
    },
    {
      "cell_type": "code",
      "execution_count": null,
      "id": "b84fcc01-3a44-498d-92d5-41859e23aaff",
      "metadata": {
        "id": "b84fcc01-3a44-498d-92d5-41859e23aaff"
      },
      "outputs": [],
      "source": [
        "tfidf_BOW = TfidfVectorizer()\n",
        "tfidf_BOW.fit(features)\n",
        "kfold = KFold(n_splits = 10,shuffle = True)"
      ]
    },
    {
      "cell_type": "code",
      "execution_count": null,
      "id": "083fb40d-cd30-4ca8-a314-84c695d93039",
      "metadata": {
        "id": "083fb40d-cd30-4ca8-a314-84c695d93039",
        "outputId": "09dc4dda-ba9b-421a-ff92-182b1b3f9685"
      },
      "outputs": [
        {
          "name": "stdout",
          "output_type": "stream",
          "text": [
            "Classification report for classifier: \n",
            "               precision    recall  f1-score   support\n",
            "\n",
            "           0       0.99      1.00      0.99     60000\n",
            "           1       0.78      0.74      0.76      1381\n",
            "\n",
            "    accuracy                           0.99     61381\n",
            "   macro avg       0.89      0.87      0.88     61381\n",
            "weighted avg       0.99      0.99      0.99     61381\n",
            "\n",
            "Confusion matrix: \n",
            "[[59710   290]\n",
            " [  360  1021]]\n",
            "Wall time: 6min 51s\n"
          ]
        }
      ],
      "source": [
        "%%time\n",
        "#RF\n",
        "\n",
        "model = RandomForestClassifier()\n",
        "expected = []\n",
        "predicted_class = []\n",
        "for train_index, test_index in kfold.split(features):\n",
        "    x_train, x_test = np.array(features)[train_index], np.array(features)[test_index]\n",
        "    y_train, y_test = np.array(labels)[train_index], np.array(labels)[test_index]\n",
        "\n",
        "    vectors_train = tfidf_BOW.transform(x_train)\n",
        "    vectors_test = tfidf_BOW.transform(x_test)\n",
        "\n",
        "    model.fit(vectors_train, y_train)\n",
        "\n",
        "    expected.extend(y_test)\n",
        "    predicted_class.extend(model.predict(vectors_test))\n",
        "\n",
        "print (\"Classification report for classifier: \\n %s\" % (metrics.classification_report(expected, predicted_class)))\n",
        "print (\"Confusion matrix: \\n%s\" % metrics.confusion_matrix(expected, predicted_class))"
      ]
    },
    {
      "cell_type": "markdown",
      "id": "793fbbd3-7732-4ead-aa58-15484e148396",
      "metadata": {
        "id": "793fbbd3-7732-4ead-aa58-15484e148396"
      },
      "source": [
        "# 預測模型 #"
      ]
    },
    {
      "cell_type": "code",
      "execution_count": null,
      "id": "d4f6b75e-fe3c-4627-b4a9-d48beb9bc3e6",
      "metadata": {
        "id": "d4f6b75e-fe3c-4627-b4a9-d48beb9bc3e6",
        "outputId": "136abb28-f0cf-485a-f802-9265d39114e9"
      },
      "outputs": [
        {
          "name": "stdout",
          "output_type": "stream",
          "text": [
            "Wall time: 9.46 s\n"
          ]
        }
      ],
      "source": [
        "%%time\n",
        "x_pre = np.array(features_pre)\n",
        "vectors_pre = tfidf_BOW.transform(x_pre)\n",
        "\n",
        "class_pre = []\n",
        "class_pre.extend(model.predict(vectors_pre))"
      ]
    },
    {
      "cell_type": "markdown",
      "id": "d8b01a09-5f6e-409c-a27b-00b6de146bb8",
      "metadata": {
        "id": "d8b01a09-5f6e-409c-a27b-00b6de146bb8"
      },
      "source": [
        "# 存檔 #"
      ]
    },
    {
      "cell_type": "code",
      "execution_count": null,
      "id": "248581c2-bf3a-4d95-bd72-19a6537c1be8",
      "metadata": {
        "id": "248581c2-bf3a-4d95-bd72-19a6537c1be8",
        "outputId": "ec64c9ce-4f80-4bd0-9da6-e70df836f385"
      },
      "outputs": [
        {
          "data": {
            "text/html": [
              "<div>\n",
              "<style scoped>\n",
              "    .dataframe tbody tr th:only-of-type {\n",
              "        vertical-align: middle;\n",
              "    }\n",
              "\n",
              "    .dataframe tbody tr th {\n",
              "        vertical-align: top;\n",
              "    }\n",
              "\n",
              "    .dataframe thead th {\n",
              "        text-align: right;\n",
              "    }\n",
              "</style>\n",
              "<table border=\"1\" class=\"dataframe\">\n",
              "  <thead>\n",
              "    <tr style=\"text-align: right;\">\n",
              "      <th></th>\n",
              "      <th>Test</th>\n",
              "      <th>Reference</th>\n",
              "    </tr>\n",
              "  </thead>\n",
              "  <tbody>\n",
              "    <tr>\n",
              "      <th>1301</th>\n",
              "      <td>101</td>\n",
              "      <td>1109</td>\n",
              "    </tr>\n",
              "    <tr>\n",
              "      <th>1305</th>\n",
              "      <td>101</td>\n",
              "      <td>1117</td>\n",
              "    </tr>\n",
              "    <tr>\n",
              "      <th>3391</th>\n",
              "      <td>1021</td>\n",
              "      <td>1090</td>\n",
              "    </tr>\n",
              "    <tr>\n",
              "      <th>3811</th>\n",
              "      <td>1026</td>\n",
              "      <td>1090</td>\n",
              "    </tr>\n",
              "    <tr>\n",
              "      <th>4734</th>\n",
              "      <td>1031</td>\n",
              "      <td>1335</td>\n",
              "    </tr>\n",
              "  </tbody>\n",
              "</table>\n",
              "</div>"
            ],
            "text/plain": [
              "      Test Reference\n",
              "1301   101      1109\n",
              "1305   101      1117\n",
              "3391  1021      1090\n",
              "3811  1026      1090\n",
              "4734  1031      1335"
            ]
          },
          "execution_count": 35,
          "metadata": {},
          "output_type": "execute_result"
        }
      ],
      "source": [
        "df_ans = pd.DataFrame({'ans':class_pre})\n",
        "df_concat = pd.concat([df_test['Test'],df_test['Reference'],df_ans],axis = 1)\n",
        "\n",
        "df_final = df_concat[df_concat['ans']==1]\n",
        "df_submission = df_final.drop('ans',axis = 1)\n",
        "df_submission.head()"
      ]
    },
    {
      "cell_type": "code",
      "execution_count": null,
      "id": "1eb1f121-b724-4c80-8cd6-add5effe8882",
      "metadata": {
        "id": "1eb1f121-b724-4c80-8cd6-add5effe8882"
      },
      "outputs": [],
      "source": [
        "num = []\n",
        "for i in range(len(df_submission)):\n",
        "    if df_submission.iloc[i,0] == df_submission.iloc[i,1]:\n",
        "        num.append(i)\n",
        "df_submission_drop = df_submission.drop(df_submission.index[num])"
      ]
    },
    {
      "cell_type": "code",
      "execution_count": null,
      "id": "a2737c1a-19a0-49fe-a47e-de4d7c273452",
      "metadata": {
        "id": "a2737c1a-19a0-49fe-a47e-de4d7c273452"
      },
      "outputs": [],
      "source": [
        "df_submission_drop.to_csv('submission_example.csv',header =True,index=False)"
      ]
    },
    {
      "cell_type": "code",
      "execution_count": null,
      "id": "a5b46406-3c97-49d4-8cb8-d412afdee0bd",
      "metadata": {
        "id": "a5b46406-3c97-49d4-8cb8-d412afdee0bd"
      },
      "outputs": [],
      "source": [
        ""
      ]
    }
  ],
  "metadata": {
    "kernelspec": {
      "display_name": "Python 3",
      "language": "python",
      "name": "python3"
    },
    "language_info": {
      "codemirror_mode": {
        "name": "ipython",
        "version": 3
      },
      "file_extension": ".py",
      "mimetype": "text/x-python",
      "name": "python",
      "nbconvert_exporter": "python",
      "pygments_lexer": "ipython3",
      "version": "3.8.8"
    },
    "toc-autonumbering": false,
    "toc-showmarkdowntxt": false,
    "colab": {
      "name": "ALL_new_ver4.ipynb",
      "provenance": [],
      "include_colab_link": true
    }
  },
  "nbformat": 4,
  "nbformat_minor": 5
}