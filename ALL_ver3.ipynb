{
  "cells": [
    {
      "cell_type": "markdown",
      "metadata": {
        "id": "view-in-github",
        "colab_type": "text"
      },
      "source": [
        "<a href=\"https://colab.research.google.com/github/iceshadow2107/AIDEA-Text-labeling-and-identification-of-agricultural-articles/blob/main/ALL_ver3.ipynb\" target=\"_parent\"><img src=\"https://colab.research.google.com/assets/colab-badge.svg\" alt=\"Open In Colab\"/></a>"
      ]
    },
    {
      "cell_type": "code",
      "execution_count": null,
      "id": "4211248c-f47b-4595-a077-c6e9f7252ffe",
      "metadata": {
        "id": "4211248c-f47b-4595-a077-c6e9f7252ffe",
        "outputId": "4d0964f1-88e1-4787-d7a2-f95c4233ec1e"
      },
      "outputs": [
        {
          "name": "stdout",
          "output_type": "stream",
          "text": [
            "+---------------------------------------------------------------------+\n",
            "  Welcome to MONPA: Multi-Objective NER POS Annotator for Chinese\n",
            "+---------------------------------------------------------------------+\n",
            "已找到 model檔。Found model file.\n"
          ]
        }
      ],
      "source": [
        "import pandas as pd\n",
        "import numpy as np\n",
        "from sklearn import metrics\n",
        "from sklearn.model_selection import KFold\n",
        "from sklearn.feature_extraction.text import TfidfVectorizer\n",
        "\n",
        "from sklearn.naive_bayes import MultinomialNB\n",
        "from sklearn.linear_model import LogisticRegression\n",
        "from sklearn.ensemble import RandomForestClassifier\n",
        "from sklearn.svm import SVC\n",
        "from sklearn.model_selection import GridSearchCV\n",
        "\n",
        "import monpa\n",
        "from monpa import utils\n",
        "monpa.load_userdict(\"./userdict.txt\") # 匯入字典\n",
        "import os\n",
        "import csv"
      ]
    },
    {
      "cell_type": "markdown",
      "id": "c7b9406b-2270-4651-9196-5ec659bb550c",
      "metadata": {
        "id": "c7b9406b-2270-4651-9196-5ec659bb550c"
      },
      "source": [
        "# 修改成第一階段以及private資料"
      ]
    },
    {
      "cell_type": "markdown",
      "id": "1510f3a7-5d39-404c-84a4-9bc6d948628d",
      "metadata": {
        "id": "1510f3a7-5d39-404c-84a4-9bc6d948628d"
      },
      "source": [
        "只改檔案名即可(first_data是有label的檔案，final_data是Private測試集階段)(因為寫test跟train我會搞混......)"
      ]
    },
    {
      "cell_type": "code",
      "execution_count": null,
      "id": "6085684b-0be1-41f8-9cb7-a3cb92a3b19b",
      "metadata": {
        "id": "6085684b-0be1-41f8-9cb7-a3cb92a3b19b"
      },
      "outputs": [],
      "source": [
        "def monpa_function(filenames):\n",
        "    process_data = {}\n",
        "    for file in filenames:\n",
        "        f = open(filepath + file, mode='r', encoding=\"utf-8\")\n",
        "        text = f.read()\n",
        "        idx = os.path.splitext(file)[0]\n",
        "        if idx not in process_data.keys():\n",
        "            process_data[idx] = text\n",
        "\n",
        "    for key in list(process_data.keys()):\n",
        "        result = []\n",
        "        for item in utils.short_sentence(process_data[key]):\n",
        "            if item:\n",
        "                result.append(monpa.cut(item))\n",
        "        strA = ' '.join('%s' %id for id in result)\n",
        "        process_data[key] = strA\n",
        "    return process_data"
      ]
    },
    {
      "cell_type": "code",
      "execution_count": null,
      "id": "ab33740f-caa0-4ddd-91f0-2d9a7fa6eaf3",
      "metadata": {
        "id": "ab33740f-caa0-4ddd-91f0-2d9a7fa6eaf3",
        "outputId": "c087a2ee-85d0-4030-b6de-33e6827fe91a"
      },
      "outputs": [
        {
          "name": "stderr",
          "output_type": "stream",
          "text": [
            "/Library/Frameworks/Python.framework/Versions/3.8/lib/python3.8/site-packages/monpa/crf_layer.py:374: UserWarning: where received a uint8 condition tensor. This behavior is deprecated and will be removed in a future version of PyTorch. Use a boolean condition instead. (Triggered internally at  ../aten/src/ATen/native/TensorCompare.cpp:328.)\n",
            "  score = torch.where(mask[i].unsqueeze(1), next_score, score)\n"
          ]
        },
        {
          "name": "stdout",
          "output_type": "stream",
          "text": [
            "CPU times: user 1min 52s, sys: 37.9 s, total: 2min 30s\n",
            "Wall time: 1min 56s\n"
          ]
        }
      ],
      "source": [
        "%%time\n",
        "filepath = './dataTrainComplete/'\n",
        "first_data = monpa_function(os.listdir(r'./dataTrainComplete'))"
      ]
    },
    {
      "cell_type": "code",
      "execution_count": null,
      "id": "3238eb41-ce38-4e9f-8d1b-c7ead6cebfdc",
      "metadata": {
        "id": "3238eb41-ce38-4e9f-8d1b-c7ead6cebfdc",
        "outputId": "d33a51ad-9573-46b7-8271-9f43f4079a1a"
      },
      "outputs": [
        {
          "name": "stdout",
          "output_type": "stream",
          "text": [
            "CPU times: user 1min 20s, sys: 27.3 s, total: 1min 47s\n",
            "Wall time: 1min 23s\n"
          ]
        }
      ],
      "source": [
        "%%time\n",
        "filepath = './dataPrivateComplete/'\n",
        "final_data = monpa_function(os.listdir(r'./dataPrivateComplete'))"
      ]
    },
    {
      "cell_type": "markdown",
      "id": "7613efa6-1882-4fb8-b8f8-02b547788421",
      "metadata": {
        "id": "7613efa6-1882-4fb8-b8f8-02b547788421"
      },
      "source": [
        "# 修改成第一階段以及private資料你想要輸出的檔名"
      ]
    },
    {
      "cell_type": "markdown",
      "id": "97365dce-19b4-4e69-9829-2f037f0df2d2",
      "metadata": {
        "id": "97365dce-19b4-4e69-9829-2f037f0df2d2"
      },
      "source": [
        "只改輸出的檔案名即可(first_data是有label的檔案，final_data是Private測試集階段)(因為寫test跟train我會搞混......)"
      ]
    },
    {
      "cell_type": "code",
      "execution_count": null,
      "id": "c73051dc-4194-44cd-8867-9eaebaad3b42",
      "metadata": {
        "id": "c73051dc-4194-44cd-8867-9eaebaad3b42"
      },
      "outputs": [],
      "source": [
        "with open('first_data_monpa.csv', mode='w', encoding=\"utf-8\") as f:  \n",
        "    writer = csv.writer(f)\n",
        "    for k, v in first_data.items():\n",
        "        writer.writerow([k, v])"
      ]
    },
    {
      "cell_type": "code",
      "execution_count": null,
      "id": "42ace82d-026e-4c54-910e-b2c98a711793",
      "metadata": {
        "id": "42ace82d-026e-4c54-910e-b2c98a711793"
      },
      "outputs": [],
      "source": [
        "with open('final_data_monpa.csv', mode='w', encoding=\"utf-8\") as f:  \n",
        "    writer = csv.writer(f)\n",
        "    for k, v in final_data.items():\n",
        "        writer.writerow([k, v])"
      ]
    },
    {
      "cell_type": "markdown",
      "id": "be6da887-b869-46fe-907a-91813d8da46c",
      "metadata": {
        "id": "be6da887-b869-46fe-907a-91813d8da46c"
      },
      "source": [
        "# 製作第一階段的Train label sample"
      ]
    },
    {
      "cell_type": "code",
      "execution_count": null,
      "id": "a371a78c-6e5e-4c87-ac5a-64b5761e16c9",
      "metadata": {
        "id": "a371a78c-6e5e-4c87-ac5a-64b5761e16c9"
      },
      "outputs": [],
      "source": [
        "first_data = pd.read_csv('first_data_monpa.csv', header=None, index_col=0, squeeze=True).to_dict()"
      ]
    },
    {
      "cell_type": "code",
      "execution_count": null,
      "id": "b6c28045-93df-4937-81ad-047b665df1f1",
      "metadata": {
        "id": "b6c28045-93df-4937-81ad-047b665df1f1"
      },
      "outputs": [],
      "source": [
        "TrainLabel = pd.read_csv('TrainLabel.csv', header=0, encoding='utf-8')\n",
        "TrainLabel_test = TrainLabel['Test'].values.tolist()\n",
        "TrainLabel_Reference = TrainLabel['Reference'].values.tolist()"
      ]
    },
    {
      "cell_type": "code",
      "execution_count": null,
      "id": "b22a9c7d-97d2-42c7-8d2d-35efccd75011",
      "metadata": {
        "id": "b22a9c7d-97d2-42c7-8d2d-35efccd75011"
      },
      "outputs": [],
      "source": [
        "TrainLabel_test_text = []\n",
        "TrainLabel_Reference_text = []\n",
        "for item in TrainLabel_test:\n",
        "    TrainLabel_test_text.append(str(first_data[item]))\n",
        "for item in TrainLabel_Reference:\n",
        "    TrainLabel_Reference_text.append(str(first_data[item]))"
      ]
    },
    {
      "cell_type": "code",
      "execution_count": null,
      "id": "7235f26a-92e8-4fa7-9e3d-d22fd8aed00f",
      "metadata": {
        "id": "7235f26a-92e8-4fa7-9e3d-d22fd8aed00f"
      },
      "outputs": [],
      "source": [
        "pn = [1]*len(TrainLabel)"
      ]
    },
    {
      "cell_type": "code",
      "execution_count": null,
      "id": "2a146afa-45a9-40ed-8e62-ab09bad31b4f",
      "metadata": {
        "id": "2a146afa-45a9-40ed-8e62-ab09bad31b4f"
      },
      "outputs": [],
      "source": [
        "TrainLabel_text_1 = pd.DataFrame({'Test':TrainLabel_test, 'Reference':TrainLabel_Reference, 'Test_text':TrainLabel_test_text, 'Reference_text':TrainLabel_Reference_text, 'P/N':pn})"
      ]
    },
    {
      "cell_type": "code",
      "execution_count": null,
      "id": "b5f788b2-1dcb-4bd1-bff6-243aad2efc16",
      "metadata": {
        "id": "b5f788b2-1dcb-4bd1-bff6-243aad2efc16"
      },
      "outputs": [],
      "source": [
        "list_key_Label = list(first_data.keys())\n",
        "LabellistA = [val for val in list_key_Label for i in range(len(list_key_Label))]\n",
        "LabellistB = list_key_Label*len(list_key_Label)"
      ]
    },
    {
      "cell_type": "code",
      "execution_count": null,
      "id": "8bc92a0b-bb8d-4d8f-b059-75b1b4cee41d",
      "metadata": {
        "id": "8bc92a0b-bb8d-4d8f-b059-75b1b4cee41d"
      },
      "outputs": [],
      "source": [
        "TrainLabel_test_text = []\n",
        "TrainLabel_Reference_text = []\n",
        "for item in LabellistA:\n",
        "    TrainLabel_test_text.append(str(first_data[item]))\n",
        "for item in LabellistB:\n",
        "    TrainLabel_Reference_text.append(str(first_data[item]))"
      ]
    },
    {
      "cell_type": "code",
      "execution_count": null,
      "id": "23d33e6b-6129-4ab0-bb13-42af8e607a15",
      "metadata": {
        "id": "23d33e6b-6129-4ab0-bb13-42af8e607a15"
      },
      "outputs": [],
      "source": [
        "d = [str(list(first_data.keys())[i])*2 for i in range(len(first_data.keys()))]\n",
        "LabellistC = list(str(LabellistA[i])+str(LabellistB[i]) for i in range(len(LabellistA)))\n",
        "TrainLabel_combo = list((str(TrainLabel_test[i])+str(TrainLabel_Reference[i]) for i in range(len(TrainLabel)))) + d"
      ]
    },
    {
      "cell_type": "code",
      "execution_count": null,
      "id": "f4d577be-c4f5-45ba-8169-7f8166850149",
      "metadata": {
        "id": "f4d577be-c4f5-45ba-8169-7f8166850149"
      },
      "outputs": [],
      "source": [
        "PN = []\n",
        "for i in range(len(LabellistC)):\n",
        "    if LabellistC[i] in TrainLabel_combo:\n",
        "        PN.append(1)\n",
        "    else:\n",
        "        PN.append(0)"
      ]
    },
    {
      "cell_type": "code",
      "execution_count": null,
      "id": "cdc7c0d9-4e12-47a2-84c2-93b4c487b176",
      "metadata": {
        "id": "cdc7c0d9-4e12-47a2-84c2-93b4c487b176"
      },
      "outputs": [],
      "source": [
        "TrainLabel_text_all = pd.DataFrame({'Test':LabellistA, 'Reference':LabellistB, 'Test_text':TrainLabel_test_text, 'Reference_text':TrainLabel_Reference_text, 'P/N':PN})"
      ]
    },
    {
      "cell_type": "markdown",
      "id": "bcaae7c9-1610-4e4a-9691-b0e35225e8a9",
      "metadata": {
        "id": "bcaae7c9-1610-4e4a-9691-b0e35225e8a9"
      },
      "source": [
        "## 可以改隨機抽取的label 0個數跟模式"
      ]
    },
    {
      "cell_type": "code",
      "execution_count": null,
      "id": "d75dfb5a-b156-4e23-a15b-304cf87509c9",
      "metadata": {
        "id": "d75dfb5a-b156-4e23-a15b-304cf87509c9"
      },
      "outputs": [],
      "source": [
        "#0的df\n",
        "TrainLabel_text_0 = TrainLabel_text_all[TrainLabel_text_all['P/N'] == 0]\n",
        "TrainLabel_text_0_sample = TrainLabel_text_0.sample(n=6500,random_state=123,axis=0)"
      ]
    },
    {
      "cell_type": "code",
      "execution_count": null,
      "id": "c47d3cfb-2ce5-4854-8127-b315440e44ce",
      "metadata": {
        "id": "c47d3cfb-2ce5-4854-8127-b315440e44ce"
      },
      "outputs": [],
      "source": [
        "TrainLabel_text_sample = pd.concat([TrainLabel_text_1, TrainLabel_text_0_sample], ignore_index=True)"
      ]
    },
    {
      "cell_type": "code",
      "execution_count": null,
      "id": "cd5d4136-224f-4c53-803a-452d4484fc8f",
      "metadata": {
        "id": "cd5d4136-224f-4c53-803a-452d4484fc8f",
        "outputId": "1a7bfe0d-ba1a-4a9e-9561-bb1e211eb6ce"
      },
      "outputs": [
        {
          "data": {
            "text/html": [
              "<div>\n",
              "<style scoped>\n",
              "    .dataframe tbody tr th:only-of-type {\n",
              "        vertical-align: middle;\n",
              "    }\n",
              "\n",
              "    .dataframe tbody tr th {\n",
              "        vertical-align: top;\n",
              "    }\n",
              "\n",
              "    .dataframe thead th {\n",
              "        text-align: right;\n",
              "    }\n",
              "</style>\n",
              "<table border=\"1\" class=\"dataframe\">\n",
              "  <thead>\n",
              "    <tr style=\"text-align: right;\">\n",
              "      <th></th>\n",
              "      <th>Test</th>\n",
              "      <th>Reference</th>\n",
              "      <th>Test_text</th>\n",
              "      <th>Reference_text</th>\n",
              "      <th>P/N</th>\n",
              "    </tr>\n",
              "  </thead>\n",
              "  <tbody>\n",
              "    <tr>\n",
              "      <th>0</th>\n",
              "      <td>3</td>\n",
              "      <td>415</td>\n",
              "      <td>['夏季', '為', '斜紋', '夜盜', '及', '甜菜夜蛾', '發生', '盛期...</td>\n",
              "      <td>['夜蛾', '拉', '警報', '，', '白粉', '等', '著', '來', '，...</td>\n",
              "      <td>1</td>\n",
              "    </tr>\n",
              "    <tr>\n",
              "      <th>1</th>\n",
              "      <td>3</td>\n",
              "      <td>649</td>\n",
              "      <td>['夏季', '為', '斜紋', '夜盜', '及', '甜菜夜蛾', '發生', '盛期...</td>\n",
              "      <td>['斜紋夜盜蟲', '密度', '升高', '，', '為', '確保', '作物', '收...</td>\n",
              "      <td>1</td>\n",
              "    </tr>\n",
              "    <tr>\n",
              "      <th>2</th>\n",
              "      <td>9</td>\n",
              "      <td>5</td>\n",
              "      <td>['請', '加強', '水稻', '飛蝨類', '害蟲', '防治', '工作', '。'...</td>\n",
              "      <td>['花蓮', '地區', '水稻', '褐飛蝨', '、', '白背飛蝨', '及', '斑...</td>\n",
              "      <td>1</td>\n",
              "    </tr>\n",
              "    <tr>\n",
              "      <th>3</th>\n",
              "      <td>25</td>\n",
              "      <td>32</td>\n",
              "      <td>['發佈', '草莓', '苗期', '炭疽病', '防治', '警報', '，', '苗栗...</td>\n",
              "      <td>['苗改場', '表示', '草莓', '苗期', '炭疽病', '疫情', '上升', '...</td>\n",
              "      <td>1</td>\n",
              "    </tr>\n",
              "    <tr>\n",
              "      <th>4</th>\n",
              "      <td>25</td>\n",
              "      <td>41</td>\n",
              "      <td>['發佈', '草莓', '苗期', '炭疽病', '防治', '警報', '，', '苗栗...</td>\n",
              "      <td>['近來', '氣候', '高溫', '多濕', '，', '易', '發生', '草莓',...</td>\n",
              "      <td>1</td>\n",
              "    </tr>\n",
              "    <tr>\n",
              "      <th>...</th>\n",
              "      <td>...</td>\n",
              "      <td>...</td>\n",
              "      <td>...</td>\n",
              "      <td>...</td>\n",
              "      <td>...</td>\n",
              "    </tr>\n",
              "    <tr>\n",
              "      <th>7878</th>\n",
              "      <td>588</td>\n",
              "      <td>1130</td>\n",
              "      <td>['氣候', '不定', '，', '鋒面', '過後', '，', '水稻', '葉', ...</td>\n",
              "      <td>['近來', '天氣', '變化', '大', '，', '花蓮區', '農改場', '提醒...</td>\n",
              "      <td>0</td>\n",
              "    </tr>\n",
              "    <tr>\n",
              "      <th>7879</th>\n",
              "      <td>424</td>\n",
              "      <td>1119</td>\n",
              "      <td>['臺南區', '農改場', '籲請', '農友', '加強', '防治', '水稻', '...</td>\n",
              "      <td>['台中區', '農業', '改良場', '籲請', '農民', '掌握', '時機', '...</td>\n",
              "      <td>0</td>\n",
              "    </tr>\n",
              "    <tr>\n",
              "      <th>7880</th>\n",
              "      <td>653</td>\n",
              "      <td>267</td>\n",
              "      <td>['時值', '檬果', '開', '花期', '，', '台南區', '農業', '改良場...</td>\n",
              "      <td>['梅', '雨', '鋒面', '來襲', '，', '請', '葡萄', '果農', '...</td>\n",
              "      <td>0</td>\n",
              "    </tr>\n",
              "    <tr>\n",
              "      <th>7881</th>\n",
              "      <td>230</td>\n",
              "      <td>380</td>\n",
              "      <td>['水稻', '白葉枯病', '及', '飛蝨類', '現蹤', '，', '且', '正值...</td>\n",
              "      <td>['氣候', '變化', '大', '，', '籲請', '農友', '注意', '防範',...</td>\n",
              "      <td>0</td>\n",
              "    </tr>\n",
              "    <tr>\n",
              "      <th>7882</th>\n",
              "      <td>1199</td>\n",
              "      <td>1375</td>\n",
              "      <td>['請', '宣導', '蕉農', '繼續', '做好', '香蕉', '葉部', '病害'...</td>\n",
              "      <td>['時值', '芒果', '盛花期', '，', '籲請', '農友', '加強', '防治...</td>\n",
              "      <td>0</td>\n",
              "    </tr>\n",
              "  </tbody>\n",
              "</table>\n",
              "<p>7883 rows × 5 columns</p>\n",
              "</div>"
            ],
            "text/plain": [
              "      Test  Reference                                          Test_text  \\\n",
              "0        3        415  ['夏季', '為', '斜紋', '夜盜', '及', '甜菜夜蛾', '發生', '盛期...   \n",
              "1        3        649  ['夏季', '為', '斜紋', '夜盜', '及', '甜菜夜蛾', '發生', '盛期...   \n",
              "2        9          5  ['請', '加強', '水稻', '飛蝨類', '害蟲', '防治', '工作', '。'...   \n",
              "3       25         32  ['發佈', '草莓', '苗期', '炭疽病', '防治', '警報', '，', '苗栗...   \n",
              "4       25         41  ['發佈', '草莓', '苗期', '炭疽病', '防治', '警報', '，', '苗栗...   \n",
              "...    ...        ...                                                ...   \n",
              "7878   588       1130  ['氣候', '不定', '，', '鋒面', '過後', '，', '水稻', '葉', ...   \n",
              "7879   424       1119  ['臺南區', '農改場', '籲請', '農友', '加強', '防治', '水稻', '...   \n",
              "7880   653        267  ['時值', '檬果', '開', '花期', '，', '台南區', '農業', '改良場...   \n",
              "7881   230        380  ['水稻', '白葉枯病', '及', '飛蝨類', '現蹤', '，', '且', '正值...   \n",
              "7882  1199       1375  ['請', '宣導', '蕉農', '繼續', '做好', '香蕉', '葉部', '病害'...   \n",
              "\n",
              "                                         Reference_text  P/N  \n",
              "0     ['夜蛾', '拉', '警報', '，', '白粉', '等', '著', '來', '，...    1  \n",
              "1     ['斜紋夜盜蟲', '密度', '升高', '，', '為', '確保', '作物', '收...    1  \n",
              "2     ['花蓮', '地區', '水稻', '褐飛蝨', '、', '白背飛蝨', '及', '斑...    1  \n",
              "3     ['苗改場', '表示', '草莓', '苗期', '炭疽病', '疫情', '上升', '...    1  \n",
              "4     ['近來', '氣候', '高溫', '多濕', '，', '易', '發生', '草莓',...    1  \n",
              "...                                                 ...  ...  \n",
              "7878  ['近來', '天氣', '變化', '大', '，', '花蓮區', '農改場', '提醒...    0  \n",
              "7879  ['台中區', '農業', '改良場', '籲請', '農民', '掌握', '時機', '...    0  \n",
              "7880  ['梅', '雨', '鋒面', '來襲', '，', '請', '葡萄', '果農', '...    0  \n",
              "7881  ['氣候', '變化', '大', '，', '籲請', '農友', '注意', '防範',...    0  \n",
              "7882  ['時值', '芒果', '盛花期', '，', '籲請', '農友', '加強', '防治...    0  \n",
              "\n",
              "[7883 rows x 5 columns]"
            ]
          },
          "execution_count": 19,
          "metadata": {},
          "output_type": "execute_result"
        }
      ],
      "source": [
        "TrainLabel_text_sample"
      ]
    },
    {
      "cell_type": "markdown",
      "id": "a0a65394-db40-42a8-a752-12668f0e50eb",
      "metadata": {
        "id": "a0a65394-db40-42a8-a752-12668f0e50eb"
      },
      "source": [
        "## 可以改成你想要的label檔名"
      ]
    },
    {
      "cell_type": "code",
      "execution_count": null,
      "id": "bb146742-c3c0-4ce5-99b1-d3be8e457dcb",
      "metadata": {
        "id": "bb146742-c3c0-4ce5-99b1-d3be8e457dcb"
      },
      "outputs": [],
      "source": [
        "TrainLabel_text_sample.to_csv('TrainLabel_text_sample.csv', header=True, index=False)"
      ]
    },
    {
      "cell_type": "markdown",
      "id": "0d2f634c-9c08-40ee-baad-9813ecc6abcc",
      "metadata": {
        "id": "0d2f634c-9c08-40ee-baad-9813ecc6abcc"
      },
      "source": [
        "# 製作private train data"
      ]
    },
    {
      "cell_type": "code",
      "execution_count": null,
      "id": "89572214-b6da-4ec7-a89a-3dcc116301ae",
      "metadata": {
        "id": "89572214-b6da-4ec7-a89a-3dcc116301ae"
      },
      "outputs": [],
      "source": [
        "#final_data = pd.read_csv('final_data_monpa.csv', header=None, index_col=0, squeeze=True).to_dict()"
      ]
    },
    {
      "cell_type": "code",
      "execution_count": null,
      "id": "26d31259-d2a9-4f24-8308-1e5fad7bb4d5",
      "metadata": {
        "id": "26d31259-d2a9-4f24-8308-1e5fad7bb4d5"
      },
      "outputs": [],
      "source": [
        "list_key = list(final_data.keys())\n",
        "listA = [val for val in list_key for i in range(len(final_data))]\n",
        "listB = list_key*(len(final_data))"
      ]
    },
    {
      "cell_type": "code",
      "execution_count": null,
      "id": "d011c8c9-fe82-474c-8930-300da9f77a4d",
      "metadata": {
        "id": "d011c8c9-fe82-474c-8930-300da9f77a4d"
      },
      "outputs": [],
      "source": [
        "final_data_test_text = []\n",
        "final_data_Reference_text = []\n",
        "for item in listA:\n",
        "    final_data_test_text.append(str(final_data[item]))\n",
        "for item in listB:\n",
        "    final_data_Reference_text.append(str(final_data[item]))"
      ]
    },
    {
      "cell_type": "code",
      "execution_count": null,
      "id": "5cf72ff2-2ee8-43d7-8506-ebbe972c6caa",
      "metadata": {
        "id": "5cf72ff2-2ee8-43d7-8506-ebbe972c6caa"
      },
      "outputs": [],
      "source": [
        "final_data_all = pd.DataFrame({'Test':listA, 'Reference':listB, 'Test_text':final_data_test_text, 'Reference_text':final_data_Reference_text})"
      ]
    },
    {
      "cell_type": "markdown",
      "id": "acc552ae-2daa-4868-a380-c2425d05c601",
      "metadata": {
        "id": "acc552ae-2daa-4868-a380-c2425d05c601"
      },
      "source": [
        "## 可以改隨機抽取的private data個數跟模式"
      ]
    },
    {
      "cell_type": "code",
      "execution_count": null,
      "id": "7a268f1b-6c04-458d-b07b-86e622cef165",
      "metadata": {
        "id": "7a268f1b-6c04-458d-b07b-86e622cef165"
      },
      "outputs": [],
      "source": [
        "final_data_all.to_csv('Test_data_sample.csv', header=True, index=False)"
      ]
    },
    {
      "cell_type": "code",
      "execution_count": null,
      "id": "bbd60b7a-f7ad-4c90-b00e-f56e9f23b7c0",
      "metadata": {
        "id": "bbd60b7a-f7ad-4c90-b00e-f56e9f23b7c0",
        "outputId": "6714877c-ef3b-46f5-ea85-8e72cf4b3ac8"
      },
      "outputs": [
        {
          "data": {
            "text/html": [
              "<div>\n",
              "<style scoped>\n",
              "    .dataframe tbody tr th:only-of-type {\n",
              "        vertical-align: middle;\n",
              "    }\n",
              "\n",
              "    .dataframe tbody tr th {\n",
              "        vertical-align: top;\n",
              "    }\n",
              "\n",
              "    .dataframe thead th {\n",
              "        text-align: right;\n",
              "    }\n",
              "</style>\n",
              "<table border=\"1\" class=\"dataframe\">\n",
              "  <thead>\n",
              "    <tr style=\"text-align: right;\">\n",
              "      <th></th>\n",
              "      <th>Test</th>\n",
              "      <th>Reference</th>\n",
              "      <th>Test_text</th>\n",
              "      <th>Reference_text</th>\n",
              "    </tr>\n",
              "  </thead>\n",
              "  <tbody>\n",
              "    <tr>\n",
              "      <th>0</th>\n",
              "      <td>1047</td>\n",
              "      <td>1047</td>\n",
              "      <td>['近來', '天氣', '變化', '大', '，', '苗栗區', '農改場', '籲請...</td>\n",
              "      <td>['近來', '天氣', '變化', '大', '，', '苗栗區', '農改場', '籲請...</td>\n",
              "    </tr>\n",
              "    <tr>\n",
              "      <th>1</th>\n",
              "      <td>1047</td>\n",
              "      <td>1090</td>\n",
              "      <td>['近來', '天氣', '變化', '大', '，', '苗栗區', '農改場', '籲請...</td>\n",
              "      <td>['水稻', '陸續', '進入', '抽穗期', '，', '花蓮場', '籲請', '農...</td>\n",
              "    </tr>\n",
              "    <tr>\n",
              "      <th>2</th>\n",
              "      <td>1047</td>\n",
              "      <td>1279</td>\n",
              "      <td>['近來', '天氣', '變化', '大', '，', '苗栗區', '農改場', '籲請...</td>\n",
              "      <td>['適逢', '香蕉', '花', '薊馬', '危害', '發生期', '，', '香蕉'...</td>\n",
              "    </tr>\n",
              "    <tr>\n",
              "      <th>3</th>\n",
              "      <td>1047</td>\n",
              "      <td>1286</td>\n",
              "      <td>['近來', '天氣', '變化', '大', '，', '苗栗區', '農改場', '籲請...</td>\n",
              "      <td>['香蕉', '所', '籲請', '各', '單位', '宣導', '蕉農', '儘速',...</td>\n",
              "    </tr>\n",
              "    <tr>\n",
              "      <th>4</th>\n",
              "      <td>1047</td>\n",
              "      <td>15</td>\n",
              "      <td>['近來', '天氣', '變化', '大', '，', '苗栗區', '農改場', '籲請...</td>\n",
              "      <td>['瘤野螟', '與', '飛蝨', '現蹤', '，', '水稻', '二', '期', ...</td>\n",
              "    </tr>\n",
              "    <tr>\n",
              "      <th>...</th>\n",
              "      <td>...</td>\n",
              "      <td>...</td>\n",
              "      <td>...</td>\n",
              "      <td>...</td>\n",
              "    </tr>\n",
              "    <tr>\n",
              "      <th>176395</th>\n",
              "      <td>284</td>\n",
              "      <td>1260</td>\n",
              "      <td>['台東', '農改場', '表示', '近日', '受', '鋒面', '影響', '連日...</td>\n",
              "      <td>['紅龍果', '潰瘍病', '防治', '黃金期', '，', '籲請', '農友', '...</td>\n",
              "    </tr>\n",
              "    <tr>\n",
              "      <th>176396</th>\n",
              "      <td>284</td>\n",
              "      <td>1248</td>\n",
              "      <td>['台東', '農改場', '表示', '近日', '受', '鋒面', '影響', '連日...</td>\n",
              "      <td>['籲請', '香蕉', '組織', '培養', '苗', '種植', '者', '，', ...</td>\n",
              "    </tr>\n",
              "    <tr>\n",
              "      <th>176397</th>\n",
              "      <td>284</td>\n",
              "      <td>253</td>\n",
              "      <td>['台東', '農改場', '表示', '近日', '受', '鋒面', '影響', '連日...</td>\n",
              "      <td>['梨', '赤星病', '的', '感染源', '已', '零星', '出現', '，',...</td>\n",
              "    </tr>\n",
              "    <tr>\n",
              "      <th>176398</th>\n",
              "      <td>284</td>\n",
              "      <td>509</td>\n",
              "      <td>['台東', '農改場', '表示', '近日', '受', '鋒面', '影響', '連日...</td>\n",
              "      <td>['苗栗', '地區', '秋', '行軍蟲', '成', '蟲數', '增加', '，',...</td>\n",
              "    </tr>\n",
              "    <tr>\n",
              "      <th>176399</th>\n",
              "      <td>284</td>\n",
              "      <td>284</td>\n",
              "      <td>['台東', '農改場', '表示', '近日', '受', '鋒面', '影響', '連日...</td>\n",
              "      <td>['台東', '農改場', '表示', '近日', '受', '鋒面', '影響', '連日...</td>\n",
              "    </tr>\n",
              "  </tbody>\n",
              "</table>\n",
              "<p>176400 rows × 4 columns</p>\n",
              "</div>"
            ],
            "text/plain": [
              "        Test Reference                                          Test_text  \\\n",
              "0       1047      1047  ['近來', '天氣', '變化', '大', '，', '苗栗區', '農改場', '籲請...   \n",
              "1       1047      1090  ['近來', '天氣', '變化', '大', '，', '苗栗區', '農改場', '籲請...   \n",
              "2       1047      1279  ['近來', '天氣', '變化', '大', '，', '苗栗區', '農改場', '籲請...   \n",
              "3       1047      1286  ['近來', '天氣', '變化', '大', '，', '苗栗區', '農改場', '籲請...   \n",
              "4       1047        15  ['近來', '天氣', '變化', '大', '，', '苗栗區', '農改場', '籲請...   \n",
              "...      ...       ...                                                ...   \n",
              "176395   284      1260  ['台東', '農改場', '表示', '近日', '受', '鋒面', '影響', '連日...   \n",
              "176396   284      1248  ['台東', '農改場', '表示', '近日', '受', '鋒面', '影響', '連日...   \n",
              "176397   284       253  ['台東', '農改場', '表示', '近日', '受', '鋒面', '影響', '連日...   \n",
              "176398   284       509  ['台東', '農改場', '表示', '近日', '受', '鋒面', '影響', '連日...   \n",
              "176399   284       284  ['台東', '農改場', '表示', '近日', '受', '鋒面', '影響', '連日...   \n",
              "\n",
              "                                           Reference_text  \n",
              "0       ['近來', '天氣', '變化', '大', '，', '苗栗區', '農改場', '籲請...  \n",
              "1       ['水稻', '陸續', '進入', '抽穗期', '，', '花蓮場', '籲請', '農...  \n",
              "2       ['適逢', '香蕉', '花', '薊馬', '危害', '發生期', '，', '香蕉'...  \n",
              "3       ['香蕉', '所', '籲請', '各', '單位', '宣導', '蕉農', '儘速',...  \n",
              "4       ['瘤野螟', '與', '飛蝨', '現蹤', '，', '水稻', '二', '期', ...  \n",
              "...                                                   ...  \n",
              "176395  ['紅龍果', '潰瘍病', '防治', '黃金期', '，', '籲請', '農友', '...  \n",
              "176396  ['籲請', '香蕉', '組織', '培養', '苗', '種植', '者', '，', ...  \n",
              "176397  ['梨', '赤星病', '的', '感染源', '已', '零星', '出現', '，',...  \n",
              "176398  ['苗栗', '地區', '秋', '行軍蟲', '成', '蟲數', '增加', '，',...  \n",
              "176399  ['台東', '農改場', '表示', '近日', '受', '鋒面', '影響', '連日...  \n",
              "\n",
              "[176400 rows x 4 columns]"
            ]
          },
          "execution_count": 25,
          "metadata": {},
          "output_type": "execute_result"
        }
      ],
      "source": [
        "final_data_all"
      ]
    },
    {
      "cell_type": "markdown",
      "id": "709166d3-42c2-4558-9ebd-59a53b6bd9cf",
      "metadata": {
        "id": "709166d3-42c2-4558-9ebd-59a53b6bd9cf"
      },
      "source": [
        "# 處理訓練集及測試集的stop word 及標點符號 #"
      ]
    },
    {
      "cell_type": "code",
      "execution_count": null,
      "id": "8b97e4d5-b3ad-4998-8200-5d1198572afd",
      "metadata": {
        "id": "8b97e4d5-b3ad-4998-8200-5d1198572afd",
        "outputId": "eed5252a-fd2e-4e5b-97ae-ef75695ed407"
      },
      "outputs": [
        {
          "name": "stdout",
          "output_type": "stream",
          "text": [
            "CPU times: user 22min, sys: 4.45 s, total: 22min 4s\n",
            "Wall time: 22min 6s\n"
          ]
        }
      ],
      "source": [
        "%%time\n",
        "def clean_seg_list(seg_list):\n",
        "    punctuations = ['+', '?', '!', '！', '，', '.', '、', ':', '：', ';', '；', ' ', '\\/', '_', ',', '$', '^', \n",
        "                    '*', '~', '\\\"\"', '\\\\', '/', '／', '「', '」', '...', '......', '#', '(',')', '「','(',' ',')','」',\n",
        "                    '『', '』', '“', '”', '「', '」', '《', '》', '-', '－', '=', '⋯', '～', '・', '·', '<', '>', '．', '%', \n",
        "                    '％']\n",
        "    stop_words = [line.strip() for line in open ('stopword_chinese.txt', encoding = 'utf-8').readlines()]\n",
        "    return [seg for seg in seg_list if seg[0] not in punctuations + stop_words]\n",
        "\n",
        "def get_cleaned_seg(df):\n",
        "    df['All'] = df['Test_text'] + ' ' + df['Reference_text']\n",
        "    \n",
        "    cleaned = []\n",
        "    for line in df['All']:\n",
        "        items = line.split()\n",
        "        item = ' '.join(clean_seg_list(items))\n",
        "        cleaned.append(item)\n",
        "    df['All_text'] = cleaned\n",
        "    df = df.drop('All', axis=1)\n",
        "\n",
        "    return df\n",
        "df_train = get_cleaned_seg(TrainLabel_text_sample)\n",
        "df_test = get_cleaned_seg(final_data_all)"
      ]
    },
    {
      "cell_type": "markdown",
      "id": "fd1797cb-466d-4fe8-9718-4e93c9867f55",
      "metadata": {
        "id": "fd1797cb-466d-4fe8-9718-4e93c9867f55"
      },
      "source": [
        "# 訓練模型 #"
      ]
    },
    {
      "cell_type": "code",
      "execution_count": null,
      "id": "21f32b55-ed7b-4bd7-8180-ab18e98494be",
      "metadata": {
        "id": "21f32b55-ed7b-4bd7-8180-ab18e98494be"
      },
      "outputs": [],
      "source": [
        "labels = df_train['P/N'].tolist()\n",
        "features = df_train['All_text'].tolist()\n",
        "features_pre = df_test['All_text'].tolist()"
      ]
    },
    {
      "cell_type": "code",
      "execution_count": null,
      "id": "b84fcc01-3a44-498d-92d5-41859e23aaff",
      "metadata": {
        "id": "b84fcc01-3a44-498d-92d5-41859e23aaff"
      },
      "outputs": [],
      "source": [
        "tfidf_BOW = TfidfVectorizer()\n",
        "tfidf_BOW.fit(features)\n",
        "kfold = KFold(n_splits = 10,shuffle = True)"
      ]
    },
    {
      "cell_type": "code",
      "execution_count": null,
      "id": "083fb40d-cd30-4ca8-a314-84c695d93039",
      "metadata": {
        "id": "083fb40d-cd30-4ca8-a314-84c695d93039",
        "outputId": "7a8a20b7-5fb8-4c32-a1b4-9b6bf08420bf"
      },
      "outputs": [
        {
          "name": "stdout",
          "output_type": "stream",
          "text": [
            "Classification report for classifier: \n",
            "               precision    recall  f1-score   support\n",
            "\n",
            "           0       0.95      0.99      0.97      6500\n",
            "           1       0.92      0.78      0.85      1383\n",
            "\n",
            "    accuracy                           0.95      7883\n",
            "   macro avg       0.94      0.88      0.91      7883\n",
            "weighted avg       0.95      0.95      0.95      7883\n",
            "\n",
            "Confusion matrix: \n",
            "[[6410   90]\n",
            " [ 305 1078]]\n",
            "CPU times: user 1min 9s, sys: 1.35 s, total: 1min 10s\n",
            "Wall time: 1min 11s\n"
          ]
        }
      ],
      "source": [
        "%%time\n",
        "#RF\n",
        "\n",
        "model = RandomForestClassifier()\n",
        "expected = []\n",
        "predicted_class = []\n",
        "for train_index, test_index in kfold.split(features):\n",
        "    x_train, x_test = np.array(features)[train_index], np.array(features)[test_index]\n",
        "    y_train, y_test = np.array(labels)[train_index], np.array(labels)[test_index]\n",
        "\n",
        "    vectors_train = tfidf_BOW.transform(x_train)\n",
        "    vectors_test = tfidf_BOW.transform(x_test)\n",
        "\n",
        "    model.fit(vectors_train, y_train)\n",
        "\n",
        "    expected.extend(y_test)\n",
        "    predicted_class.extend(model.predict(vectors_test))\n",
        "\n",
        "print (\"Classification report for classifier: \\n %s\" % (metrics.classification_report(expected, predicted_class)))\n",
        "print (\"Confusion matrix: \\n%s\" % metrics.confusion_matrix(expected, predicted_class))"
      ]
    },
    {
      "cell_type": "markdown",
      "id": "793fbbd3-7732-4ead-aa58-15484e148396",
      "metadata": {
        "id": "793fbbd3-7732-4ead-aa58-15484e148396"
      },
      "source": [
        "# 預測模型 #"
      ]
    },
    {
      "cell_type": "code",
      "execution_count": null,
      "id": "d4f6b75e-fe3c-4627-b4a9-d48beb9bc3e6",
      "metadata": {
        "id": "d4f6b75e-fe3c-4627-b4a9-d48beb9bc3e6",
        "outputId": "3a30b90e-f4a5-4a73-f4ee-64c944f624c0"
      },
      "outputs": [
        {
          "name": "stdout",
          "output_type": "stream",
          "text": [
            "CPU times: user 42.2 s, sys: 2.22 s, total: 44.4 s\n",
            "Wall time: 46.7 s\n"
          ]
        }
      ],
      "source": [
        "%%time\n",
        "x_pre = np.array(features_pre)\n",
        "vectors_pre = tfidf_BOW.transform(x_pre)\n",
        "\n",
        "class_pre = []\n",
        "class_pre.extend(model.predict(vectors_pre))"
      ]
    },
    {
      "cell_type": "markdown",
      "id": "d8b01a09-5f6e-409c-a27b-00b6de146bb8",
      "metadata": {
        "id": "d8b01a09-5f6e-409c-a27b-00b6de146bb8"
      },
      "source": [
        "# 存檔 #"
      ]
    },
    {
      "cell_type": "code",
      "execution_count": null,
      "id": "248581c2-bf3a-4d95-bd72-19a6537c1be8",
      "metadata": {
        "id": "248581c2-bf3a-4d95-bd72-19a6537c1be8",
        "outputId": "569e9a01-86a7-4c8b-9e74-1a8ce8497fcf"
      },
      "outputs": [
        {
          "data": {
            "text/html": [
              "<div>\n",
              "<style scoped>\n",
              "    .dataframe tbody tr th:only-of-type {\n",
              "        vertical-align: middle;\n",
              "    }\n",
              "\n",
              "    .dataframe tbody tr th {\n",
              "        vertical-align: top;\n",
              "    }\n",
              "\n",
              "    .dataframe thead th {\n",
              "        text-align: right;\n",
              "    }\n",
              "</style>\n",
              "<table border=\"1\" class=\"dataframe\">\n",
              "  <thead>\n",
              "    <tr style=\"text-align: right;\">\n",
              "      <th></th>\n",
              "      <th>Test</th>\n",
              "      <th>Reference</th>\n",
              "    </tr>\n",
              "  </thead>\n",
              "  <tbody>\n",
              "    <tr>\n",
              "      <th>28</th>\n",
              "      <td>1047</td>\n",
              "      <td>842</td>\n",
              "    </tr>\n",
              "    <tr>\n",
              "      <th>47</th>\n",
              "      <td>1047</td>\n",
              "      <td>502</td>\n",
              "    </tr>\n",
              "    <tr>\n",
              "      <th>98</th>\n",
              "      <td>1047</td>\n",
              "      <td>62</td>\n",
              "    </tr>\n",
              "    <tr>\n",
              "      <th>114</th>\n",
              "      <td>1047</td>\n",
              "      <td>837</td>\n",
              "    </tr>\n",
              "    <tr>\n",
              "      <th>277</th>\n",
              "      <td>1047</td>\n",
              "      <td>804</td>\n",
              "    </tr>\n",
              "  </tbody>\n",
              "</table>\n",
              "</div>"
            ],
            "text/plain": [
              "     Test Reference\n",
              "28   1047       842\n",
              "47   1047       502\n",
              "98   1047        62\n",
              "114  1047       837\n",
              "277  1047       804"
            ]
          },
          "execution_count": 32,
          "metadata": {},
          "output_type": "execute_result"
        }
      ],
      "source": [
        "df_ans = pd.DataFrame({'ans':class_pre})\n",
        "df_concat = pd.concat([df_test['Test'],df_test['Reference'],df_ans],axis = 1)\n",
        "\n",
        "df_final = df_concat[df_concat['ans']==1]\n",
        "df_submission = df_final.drop('ans',axis = 1)\n",
        "df_submission.head()"
      ]
    },
    {
      "cell_type": "code",
      "execution_count": null,
      "id": "a2737c1a-19a0-49fe-a47e-de4d7c273452",
      "metadata": {
        "id": "a2737c1a-19a0-49fe-a47e-de4d7c273452"
      },
      "outputs": [],
      "source": [
        "df_submission.to_csv('submission_example.csv',header =True,index=False)"
      ]
    },
    {
      "cell_type": "code",
      "execution_count": null,
      "id": "a5b46406-3c97-49d4-8cb8-d412afdee0bd",
      "metadata": {
        "id": "a5b46406-3c97-49d4-8cb8-d412afdee0bd"
      },
      "outputs": [],
      "source": [
        ""
      ]
    }
  ],
  "metadata": {
    "kernelspec": {
      "display_name": "Python 3 (ipykernel)",
      "language": "python",
      "name": "python3"
    },
    "language_info": {
      "codemirror_mode": {
        "name": "ipython",
        "version": 3
      },
      "file_extension": ".py",
      "mimetype": "text/x-python",
      "name": "python",
      "nbconvert_exporter": "python",
      "pygments_lexer": "ipython3",
      "version": "3.8.10"
    },
    "toc-autonumbering": false,
    "toc-showmarkdowntxt": false,
    "colab": {
      "name": "ALL_ver3.ipynb",
      "provenance": [],
      "include_colab_link": true
    }
  },
  "nbformat": 4,
  "nbformat_minor": 5
}